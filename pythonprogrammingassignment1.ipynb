{
 "cells": [
  {
   "cell_type": "markdown",
   "id": "168eae9d",
   "metadata": {},
   "source": [
    "1.Write a Python program to print \"Hello Python\"?"
   ]
  },
  {
   "cell_type": "code",
   "execution_count": 1,
   "id": "7070ff6e",
   "metadata": {},
   "outputs": [
    {
     "name": "stdout",
     "output_type": "stream",
     "text": [
      "Hello Python\n"
     ]
    }
   ],
   "source": [
    "print(\"Hello Python\")"
   ]
  },
  {
   "cell_type": "markdown",
   "id": "ab92374f",
   "metadata": {},
   "source": [
    "2.Write a Python program to do arithmetical operations addition and division.?"
   ]
  },
  {
   "cell_type": "code",
   "execution_count": 13,
   "id": "4fd465a3",
   "metadata": {},
   "outputs": [
    {
     "name": "stdout",
     "output_type": "stream",
     "text": [
      "Enter first number265.6652\n",
      "Enter first number266589.6552\n",
      "Addition of two numbers is 266855.32039999997 and subtraction is -266323.99\n"
     ]
    }
   ],
   "source": [
    "a=float(input(\"Enter first number\"))\n",
    "b=float(input(\"Enter first number\"))\n",
    "add=a+b\n",
    "sub=a-b\n",
    "print(\"Addition of two numbers is {} and subtraction is\".format(add),sub)\n"
   ]
  },
  {
   "cell_type": "code",
   "execution_count": null,
   "id": "3608d3b4",
   "metadata": {},
   "outputs": [],
   "source": [
    "3.Write a Python program to find the area of a triangle?"
   ]
  },
  {
   "cell_type": "code",
   "execution_count": 15,
   "id": "a576fbbe",
   "metadata": {},
   "outputs": [
    {
     "name": "stdout",
     "output_type": "stream",
     "text": [
      "Enter the base of a triangle10\n",
      "Enter the height  of a triangle30\n",
      "The area of a triangle is  150.0\n"
     ]
    }
   ],
   "source": [
    "b=float(input(\"Enter the base of a triangle\"))\n",
    "h=float(input(\"Enter the height  of a triangle\"))\n",
    "area=1/2*b*h\n",
    "print(\"The area of a triangle is \",area)"
   ]
  },
  {
   "cell_type": "code",
   "execution_count": null,
   "id": "2d34201a",
   "metadata": {},
   "outputs": [],
   "source": [
    "4.\tWrite a Python program to swap two variables?"
   ]
  },
  {
   "cell_type": "code",
   "execution_count": 30,
   "id": "d458354b",
   "metadata": {},
   "outputs": [
    {
     "name": "stdout",
     "output_type": "stream",
     "text": [
      "Enter a number25\n",
      "Enter a number6532\n",
      "6532 25\n"
     ]
    }
   ],
   "source": [
    "a=int(input(\"Enter a number\")) #20\n",
    "b=int(input(\"Enter a number\")) #10\n",
    "temp=b #10\n",
    "b=a    #20\n",
    "a=temp  #10\n",
    "\n",
    "print(a,b)"
   ]
  },
  {
   "cell_type": "markdown",
   "id": "a65dffad",
   "metadata": {},
   "source": [
    "5.\tWrite a Python program to generate a random number?"
   ]
  },
  {
   "cell_type": "code",
   "execution_count": 41,
   "id": "b9637594",
   "metadata": {},
   "outputs": [
    {
     "name": "stdout",
     "output_type": "stream",
     "text": [
      "0.10567682604114215\n"
     ]
    }
   ],
   "source": [
    "import random\n",
    "a=random.random()\n",
    "print(a)"
   ]
  },
  {
   "cell_type": "code",
   "execution_count": null,
   "id": "bf49a2ae",
   "metadata": {},
   "outputs": [],
   "source": []
  },
  {
   "cell_type": "code",
   "execution_count": null,
   "id": "4d808ef3",
   "metadata": {},
   "outputs": [],
   "source": []
  }
 ],
 "metadata": {
  "kernelspec": {
   "display_name": "Python 3 (ipykernel)",
   "language": "python",
   "name": "python3"
  },
  "language_info": {
   "codemirror_mode": {
    "name": "ipython",
    "version": 3
   },
   "file_extension": ".py",
   "mimetype": "text/x-python",
   "name": "python",
   "nbconvert_exporter": "python",
   "pygments_lexer": "ipython3",
   "version": "3.9.7"
  }
 },
 "nbformat": 4,
 "nbformat_minor": 5
}
