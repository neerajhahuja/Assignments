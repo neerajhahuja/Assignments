{
 "cells": [
  {
   "cell_type": "markdown",
   "id": "6104151f",
   "metadata": {},
   "source": [
    "1.What are the two values of the Boolean data type? How do you write them?"
   ]
  },
  {
   "cell_type": "markdown",
   "id": "588853b4",
   "metadata": {},
   "source": [
    "ANS:The two values of boolean data type are True and False.\n",
    "a=True\n",
    "b=False"
   ]
  },
  {
   "cell_type": "markdown",
   "id": "94d5fc17",
   "metadata": {},
   "source": [
    "2. What are the three different types of Boolean operators?"
   ]
  },
  {
   "cell_type": "markdown",
   "id": "04955d21",
   "metadata": {},
   "source": [
    "ANS:There are three different types of boolean operators in python-\n",
    "1.AND - Returns true if both the condition are true.\n",
    "2.OR - Returns true if either of the two conditions if true\n",
    "3.NOT-It interchanges value of true to False and vice-versa"
   ]
  },
  {
   "cell_type": "markdown",
   "id": "bc064584",
   "metadata": {},
   "source": [
    "3. Make a list of each Boolean operator&#39;s truth tables (i.e. every possible combination of Boolean\n",
    "values for the operator and what it evaluate )."
   ]
  },
  {
   "cell_type": "markdown",
   "id": "c2546653",
   "metadata": {},
   "source": [
    "ANS: Truth tables for and or operators Here True = T,False=F\n",
    "X  Y      X AND Y      X OR Y\n",
    "T  F        F            T\n",
    "T  T        T            T\n",
    "F  T        F            T\n",
    "F  F        F            F\n",
    "Truth table for not operator\n",
    "X  not X\n",
    "T   F\n",
    "F   T"
   ]
  },
  {
   "cell_type": "markdown",
   "id": "404dd501",
   "metadata": {},
   "source": [
    "4. What are the values of the following expressions?\n",
    "(5 &gt; 4) and (3 == 5)\n",
    "not (5 &gt; 4)\n",
    "(5 &gt; 4) or (3 == 5)\n",
    "not ((5 &gt; 4) or (3 == 5))\n",
    "(True and True) and (True == False)\n",
    "(not False) or (not True)\n"
   ]
  },
  {
   "cell_type": "markdown",
   "id": "3c1002a8",
   "metadata": {},
   "source": [
    "ANS:(5 > 4) and (3 == 5) - False\n",
    "  not (5 >4)-False\n",
    "  (5 > 4) or (3 == 5)-True\n",
    "  not ((5 > 4) or (3 == 5))-False\n",
    "  (True and True) and (True == False)-False\n",
    "  (not False) or (not True)-True"
   ]
  },
  {
   "cell_type": "markdown",
   "id": "fe69468d",
   "metadata": {},
   "source": [
    "5.What are the six comparison operators? "
   ]
  },
  {
   "cell_type": "markdown",
   "id": "64a11bb3",
   "metadata": {},
   "source": [
    "ANS: The six comparison operators are as follows -\n",
    "   1. == operator returns true if both the values of operand are equal else it will returns false.\n",
    "   for eg: x=5,y=5\n",
    "    x==y will return true.\n",
    "   2. != operator returns true if both the values of operand are not equal else it willreturnsfalse.\n",
    "   for eg: x=5,y=5\n",
    "    x!=y will return false\n",
    "   3. > opertor returns true if left operand is greater than the right else it willreturnsfalse.\n",
    "   for eg:x=5,y=5\n",
    "   x>y returns false\n",
    "   4. < opertor returns true if left operand is lesser than the right else it willreturnsfalse.\n",
    "   for eg:x=5,y=5\n",
    "   x < y returns false\n",
    "   5. >= opertor returns true if left operand is greater or equal  than the right operand else it             will   returns  false.\n",
    "   for eg:x=5,y=5\n",
    "   x>=y returns true\n",
    "   6. <= opertor returns true if left operand is lesser or equal  than the right operand else it             will   returns    false.\n",
    "   for eg:x=5,y=5\n",
    "   x>y returns true\n",
    "   "
   ]
  },
  {
   "cell_type": "markdown",
   "id": "bdbad355",
   "metadata": {},
   "source": [
    "6. How do you tell the difference between the equal to and assignment operators?Describe a\n",
    "condition and when you would use one.\n",
    "ANS: The equal to operator is a comparison operator which compares to operand and returns a boolean value ,assignment operator assigns the value to the variable.\n",
    "For eg: a==10 is an equal to operator  whereas a=10 is an assignment operator"
   ]
  },
  {
   "cell_type": "markdown",
   "id": "3faeac52",
   "metadata": {},
   "source": [
    "7. Identify the three blocks in this code:\n",
    "spam = 0\n",
    "if spam == 10:\n",
    "print(eggs)\n",
    "if spam > 5:\n",
    "print(bacon)\n",
    "else:\n",
    "print(ham)\n",
    "print(spam)\n",
    "print(spam)\n",
    "ANS:\n",
    "spam=0\n",
    "if spam==10:\n",
    "    print(\"eggs\") this is the first block\n",
    "    if spam>5:\n",
    "        print(\"bacon\") this is second block\n",
    "    else:\n",
    "        print(\"ham\")  this is third block\n",
    "    print(\"spam\")\n",
    "print(\"spam\")"
   ]
  },
  {
   "cell_type": "code",
   "execution_count": null,
   "id": "895c2c7b",
   "metadata": {},
   "outputs": [],
   "source": [
    "8. Write code that prints Hello if 1 is stored in spam, prints Howdy if 2 is stored in spam, and prints\n",
    "Greetings! if anything else is stored in spam."
   ]
  },
  {
   "cell_type": "code",
   "execution_count": null,
   "id": "0f7d8261",
   "metadata": {},
   "outputs": [],
   "source": [
    "#ANS of 8th question\n",
    "spam=int(input(\"Enter a integer\"))\n",
    "if spam==1:\n",
    "    print(\"spam\")\n",
    "elif spam==2:\n",
    "    print(\"Howdy\")\n",
    "else:\n",
    "    print(\"Greetings!\")"
   ]
  },
  {
   "cell_type": "markdown",
   "id": "9cde7fde",
   "metadata": {},
   "source": [
    "9.If your programme is stuck in an endless loop, what keys you’ll press?\n",
    "ANS:CTRL+C"
   ]
  },
  {
   "cell_type": "markdown",
   "id": "b49b6314",
   "metadata": {},
   "source": [
    "10. How can you tell the difference between break and continue?\n",
    "ANS: A break statement is used to break or terminate the loop.It resumes execution at the next statement\n",
    "for i in range(10):\n",
    "    if i==6:\n",
    "      break\n",
    "    print(i)\n",
    "The continue statement returns the control to the beginning of the  loop. \n",
    "The continue statement rejects all the remaining statements in the current iteration of the loop and moves the control back to the top of the loop.\n",
    "for i in range(10):\n",
    "    if i==6:\n",
    "    continue\n",
    "    print(i)"
   ]
  },
  {
   "cell_type": "markdown",
   "id": "ec14083e",
   "metadata": {},
   "source": [
    "11. In a for loop, what is the difference between range(10), range(0, 10), and range(0, 10, 1)?\n",
    "ANS:All the three statements will return the same output.There is no difference."
   ]
  },
  {
   "cell_type": "code",
   "execution_count": null,
   "id": "717a1196",
   "metadata": {},
   "outputs": [],
   "source": [
    "12. Write a short program that prints the numbers 1 to 10 using a for loop. Then write an equivalent\n",
    "program that prints the numbers 1 to 10 using a while loop."
   ]
  },
  {
   "cell_type": "code",
   "execution_count": null,
   "id": "3aa4bb34",
   "metadata": {},
   "outputs": [],
   "source": [
    "#ANS\n",
    "for i in range(1,11):\n",
    "    print(i)\n",
    "i=1\n",
    "while(i<11):\n",
    "    print(i)\n",
    "    i=i+1"
   ]
  },
  {
   "cell_type": "markdown",
   "id": "cf4444e6",
   "metadata": {},
   "source": [
    "13. If you had a function named bacon() inside a module named spam, how would you call it after\n",
    "importing spam?\n",
    "ANS:spam.bacon()"
   ]
  }
 ],
 "metadata": {
  "kernelspec": {
   "display_name": "Python 3 (ipykernel)",
   "language": "python",
   "name": "python3"
  },
  "language_info": {
   "codemirror_mode": {
    "name": "ipython",
    "version": 3
   },
   "file_extension": ".py",
   "mimetype": "text/x-python",
   "name": "python",
   "nbconvert_exporter": "python",
   "pygments_lexer": "ipython3",
   "version": "3.9.7"
  }
 },
 "nbformat": 4,
 "nbformat_minor": 5
}
