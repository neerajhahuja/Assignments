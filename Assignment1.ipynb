{
 "cells": [
  {
   "cell_type": "markdown",
   "id": "9bdbca93",
   "metadata": {},
   "source": [
    "1. In the below elements which of them are values or an expression? eg:- values can be integer or string and expressions will be mathematical operators.\n",
    "* \n",
    "'hello'\n",
    "-87.8\n",
    "- \n",
    "/ \n",
    "+\t\n",
    "6 \n",
    "ANS:'hello'=VALUE\n",
    "-87.8=VALUE\n",
    "-=EXPRESSION\n",
    "/=EXPRESSIO\n",
    "+=EXPRESSION\n",
    "6=VALUE"
   ]
  },
  {
   "cell_type": "markdown",
   "id": "c787912b",
   "metadata": {},
   "source": [
    "2. What is the difference between string and variable?\n",
    "ANS: A string is a datatype where we store values whereas varaiable is  a name given to any value for reference."
   ]
  },
  {
   "cell_type": "markdown",
   "id": "e28e699d",
   "metadata": {},
   "source": [
    "3. Describe three different data types.\n",
    "ANS: STRING, INTEGER AND LIST.STRING is a datatype whhich stores characters and put them into a single or multiple  quotes. For eg name=\"Neeraj\". Integer is a numeric dataype which stores a whole number or positive or negative number without decimals.For eg marks=95.List is a datatype which stores colection of data in a single variable.It can store various or single datatype in a single variable depending upon the requirement.For eg: students=[\"Neeraj\",95,45,\"Good\"]"
   ]
  },
  {
   "cell_type": "markdown",
   "id": "af0e3f72",
   "metadata": {},
   "source": [
    "4. What is an expression made up of? What do all expressions do?\n",
    "ANS: Expressions are made up of operators  which are used to  perform some designated task.For example addition expression will be used to add two numbers. c=10+12"
   ]
  },
  {
   "cell_type": "markdown",
   "id": "b0ed05be",
   "metadata": {},
   "source": [
    "5. This assignment statements, like spam = 10. What is the difference between an expression and a statement?\n",
    "ANS.Here spam=10 means we are assigning a value 10  to  variable name called as spam.The difference between an expression and a statement is an expression is used to perform some task where it changes the value of the variable whereas a assignment statement will only assign value to a particular variable."
   ]
  },
  {
   "cell_type": "markdown",
   "id": "08add8e1",
   "metadata": {},
   "source": [
    "6. After running the following code, what does the variable bacon contain?\n",
    "bacon = 22\n",
    "bacon + 1\n",
    "ANS:bacon will contain a value i.e 22."
   ]
  },
  {
   "cell_type": "markdown",
   "id": "f444850e",
   "metadata": {},
   "source": [
    "7. What should the values of the following two terms be?\n",
    "'spam' + 'spamspam'\n",
    "'spam' * 3\n",
    "ANS:The values of both the terms will be same i.e'spamspamspam'"
   ]
  },
  {
   "cell_type": "markdown",
   "id": "b98c7eb7",
   "metadata": {},
   "source": [
    "8. Why is eggs a valid variable name while 100 is invalid?\n",
    "ANS: Because as per the rules a variable name must start with any aplhabets or a underscore. "
   ]
  },
  {
   "cell_type": "markdown",
   "id": "00311040",
   "metadata": {},
   "source": [
    "9. What three functions can be used to get the integer, floating-point number, or string version of a value?\n",
    "ANS:The three functions are int(),float(),str()"
   ]
  },
  {
   "cell_type": "markdown",
   "id": "7a72d1fe",
   "metadata": {},
   "source": [
    "10. Why does this expression cause an error? How can you fix it?\n",
    "'I have eaten ' + 99 + ' burritos.'\n",
    "ANS:Because 99 is an integer and we cannot perform string concatenation on an integer.The right ans is:\n",
    "'I have eaten ' + '99' + ' burritos.'"
   ]
  },
  {
   "cell_type": "code",
   "execution_count": null,
   "id": "782e219e",
   "metadata": {},
   "outputs": [],
   "source": []
  }
 ],
 "metadata": {
  "kernelspec": {
   "display_name": "Python 3 (ipykernel)",
   "language": "python",
   "name": "python3"
  },
  "language_info": {
   "codemirror_mode": {
    "name": "ipython",
    "version": 3
   },
   "file_extension": ".py",
   "mimetype": "text/x-python",
   "name": "python",
   "nbconvert_exporter": "python",
   "pygments_lexer": "ipython3",
   "version": "3.9.7"
  }
 },
 "nbformat": 4,
 "nbformat_minor": 5
}
